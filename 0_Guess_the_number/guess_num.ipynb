{
 "cells": [
  {
   "cell_type": "markdown",
   "metadata": {
    "id": "dWcE-y-N-2fE"
   },
   "source": [
    "# Угадай число\n",
    "Нужно написать программу, которая угадывает число за минимальное число попыток.\n",
    "\n",
    "## Условия соревнования\n",
    "- Компьютер загадывает целое число от 1 до 100, и нам его нужно угадать. Под «угадать», подразумевается «написать программу, которая угадывает число».    \n",
    "- Алгоритм учитывает информацию о том, больше ли случайное число или меньше нужного нам.\n",
    "- Необходимо добиться того, чтобы программа угадывала число меньше, чем за 20 попыток.\n"
   ]
  },
  {
   "cell_type": "markdown",
   "metadata": {
    "id": "4sShzLei_ClF"
   },
   "source": [
    "Импортируем библиотеку, которая нам пригодится для генерации случайных чисел. В следующих темах вы познакомитесь с ней подробнее:"
   ]
  },
  {
   "cell_type": "code",
   "execution_count": 1,
   "metadata": {
    "executionInfo": {
     "elapsed": 497,
     "status": "ok",
     "timestamp": 1738567163978,
     "user": {
      "displayName": "Максим Братышев",
      "userId": "07989005878146755133"
     },
     "user_tz": -240
    },
    "id": "KIy8PgXL-2fH"
   },
   "outputs": [],
   "source": [
    "import numpy as np"
   ]
  },
  {
   "cell_type": "markdown",
   "metadata": {
    "id": "jf8LUtxQBChn"
   },
   "source": [
    "Ниже уже даны два простейших подхода к решению этой задачи. Посмотрим на них."
   ]
  },
  {
   "cell_type": "markdown",
   "metadata": {
    "id": "shciKwTp-2fJ"
   },
   "source": [
    "## Подход 1: Случайное угадывание"
   ]
  },
  {
   "cell_type": "markdown",
   "metadata": {
    "id": "XCYf-uZa-_Oa"
   },
   "source": [
    "Простейший способ решения: научить программу случайным образом выбирать число до тех пор, пока оно не будет угадано. Этот способ не дает хорошего результата, однако будет для нас хорошей стартовой точкой."
   ]
  },
  {
   "cell_type": "code",
   "execution_count": 2,
   "metadata": {
    "executionInfo": {
     "elapsed": 5,
     "status": "ok",
     "timestamp": 1738567164302,
     "user": {
      "displayName": "Максим Братышев",
      "userId": "07989005878146755133"
     },
     "user_tz": -240
    },
    "id": "pJaQGNND-2fK"
   },
   "outputs": [],
   "source": [
    "def random_predict(number: int = 1) -> int:\n",
    "    \"\"\"Просто угадываем на random, никак не используя информацию о больше или меньше.\n",
    "       Функция принимает загаданное число и возвращает число попыток\n",
    "\n",
    "    Args:\n",
    "        number (int, optional): Загаданное число. Defaults to 1.\n",
    "\n",
    "    Returns:\n",
    "        int: Число попыток\n",
    "    \"\"\"\n",
    "    count = 0\n",
    "\n",
    "    while True:\n",
    "        count += 1\n",
    "        predict_number = np.random.randint(1, 101)  # предполагаемое число\n",
    "        if number == predict_number:\n",
    "            break  # выход из цикла если угадали\n",
    "\n",
    "    return count\n"
   ]
  },
  {
   "cell_type": "markdown",
   "metadata": {
    "id": "Da8TSXrE_2QC"
   },
   "source": [
    "## Подход 2: Угадывание с коррекцией"
   ]
  },
  {
   "cell_type": "markdown",
   "metadata": {
    "id": "UeFYnSZi_7uZ"
   },
   "source": [
    "Сначала устанавливаем любое случайное число, а потом уменьшаем или увеличиваем его в зависимости от того, больше оно или меньше нужного."
   ]
  },
  {
   "cell_type": "code",
   "execution_count": 3,
   "metadata": {
    "executionInfo": {
     "elapsed": 5,
     "status": "ok",
     "timestamp": 1738567164303,
     "user": {
      "displayName": "Максим Братышев",
      "userId": "07989005878146755133"
     },
     "user_tz": -240
    },
    "id": "bFzp7ROY_QYY"
   },
   "outputs": [],
   "source": [
    "def game_core_v2(number: int = 1) -> int:\n",
    "    \"\"\"Сначала устанавливаем любое random число, а потом уменьшаем\n",
    "    или увеличиваем его в зависимости от того, больше оно или меньше нужного.\n",
    "       Функция принимает загаданное число и возвращает число попыток\n",
    "\n",
    "    Args:\n",
    "        number (int, optional): Загаданное число. Defaults to 1.\n",
    "\n",
    "    Returns:\n",
    "        int: Число попыток\n",
    "    \"\"\"\n",
    "    count = 0\n",
    "    predict = np.random.randint(1, 101)\n",
    "\n",
    "    while number != predict:\n",
    "        count += 1\n",
    "        if number > predict:\n",
    "            predict += 1\n",
    "        elif number < predict:\n",
    "            predict -= 1\n",
    "\n",
    "    return count"
   ]
  },
  {
   "cell_type": "markdown",
   "metadata": {
    "id": "t3rDQ1wTBaXC"
   },
   "source": [
    "Посмотрим, как эти программы справляются с задачей."
   ]
  },
  {
   "cell_type": "markdown",
   "metadata": {
    "id": "GCu4m8fu_-al"
   },
   "source": [
    "## Функция для оценки"
   ]
  },
  {
   "cell_type": "markdown",
   "metadata": {
    "id": "7ZlAJ37fAJ99"
   },
   "source": [
    "Эта функция необходима, чтобы определить, за какое число попыток программа угадывает наше число."
   ]
  },
  {
   "cell_type": "code",
   "execution_count": 4,
   "metadata": {
    "executionInfo": {
     "elapsed": 5,
     "status": "ok",
     "timestamp": 1738567164303,
     "user": {
      "displayName": "Максим Братышев",
      "userId": "07989005878146755133"
     },
     "user_tz": -240
    },
    "id": "t4WXEDFS_ThY"
   },
   "outputs": [],
   "source": [
    "def score_game(random_predict) -> int:\n",
    "    \"\"\"За какое количество попыток в среднем за 1000 подходов угадывает наш алгоритм\n",
    "\n",
    "    Args:\n",
    "        random_predict ([type]): функция угадывания\n",
    "\n",
    "    Returns:\n",
    "        int: среднее количество попыток\n",
    "    \"\"\"\n",
    "    count_ls = []\n",
    "    # np.random.seed(1)  # фиксируем сид для воспроизводимости\n",
    "    random_array = np.random.randint(1, 101, size=(1000))  # загадали список чисел\n",
    "\n",
    "    for number in random_array:\n",
    "        count_ls.append(random_predict(number))\n",
    "\n",
    "    score = int(np.mean(count_ls))\n",
    "    print(f'Ваш алгоритм угадывает число: в среднем за {score} попытки')\n",
    "    print(f'Ваш алгоритм угадывает число: максимум за {max(count_ls)} попытки')\n",
    "    print(f'Ваш алгоритм угадывает число: минимум за {min(count_ls)} попытки')"
   ]
  },
  {
   "cell_type": "markdown",
   "metadata": {
    "id": "PCC3-Hwz-2fL"
   },
   "source": [
    "## Оценка работы алгоритмов\n",
    "Определяем, какой подход лучше."
   ]
  },
  {
   "cell_type": "code",
   "execution_count": 5,
   "metadata": {
    "colab": {
     "base_uri": "https://localhost:8080/"
    },
    "executionInfo": {
     "elapsed": 898,
     "status": "ok",
     "timestamp": 1738567165196,
     "user": {
      "displayName": "Максим Братышев",
      "userId": "07989005878146755133"
     },
     "user_tz": -240
    },
    "id": "khrxOcEB-2fM",
    "outputId": "9048a849-60f9-47da-eac7-51763e96325c"
   },
   "outputs": [
    {
     "name": "stdout",
     "output_type": "stream",
     "text": [
      "Run benchmarking for random_predict: \n",
      "Ваш алгоритм угадывает число: в среднем за 99 попытки\n",
      "Ваш алгоритм угадывает число: максимум за 701 попытки\n",
      "Ваш алгоритм угадывает число: минимум за 1 попытки\n",
      "Run benchmarking for game_core_v2:\n",
      "Ваш алгоритм угадывает число: в среднем за 32 попытки\n",
      "Ваш алгоритм угадывает число: максимум за 98 попытки\n",
      "Ваш алгоритм угадывает число: минимум за 0 попытки\n"
     ]
    }
   ],
   "source": [
    "#Run benchmarking to score effectiveness of all algorithms\n",
    "print('Run benchmarking for random_predict: ')\n",
    "score_game(random_predict)\n",
    "\n",
    "print('Run benchmarking for game_core_v2:')\n",
    "score_game(game_core_v2)"
   ]
  },
  {
   "cell_type": "markdown",
   "metadata": {
    "id": "_H0wabPwBfRo"
   },
   "source": [
    "Как мы видим, две предложенные программы показывают не лучший результат.\n",
    "Теперь вы попробуете решить эту задачу и найти более обтимальный алгоритм."
   ]
  },
  {
   "cell_type": "markdown",
   "metadata": {
    "id": "ZIdPcSWzB0G1"
   },
   "source": [
    "## Подход 3: Угадываем с использованием бинарного поиска"
   ]
  },
  {
   "cell_type": "markdown",
   "metadata": {
    "id": "KPT5reW1B32U"
   },
   "source": [
    "*Так как задан отсортированный (по возрастанию) список, мы можем использовать бинарный поиск.*\n",
    "На первом шаге компьютер выбирает любое случайное число из диапазона (1, 101). Потом производим деление заданного списока чисел (1, 101) пополам и сравниваем средний элемент с загаданным числом. Повторяем процесс для той половины, в которой может находиться искомый элемент, и так до тех пор пока не будет достигнута цель."
   ]
  },
  {
   "cell_type": "code",
   "execution_count": 6,
   "metadata": {
    "colab": {
     "base_uri": "https://localhost:8080/"
    },
    "executionInfo": {
     "elapsed": 215,
     "status": "ok",
     "timestamp": 1738568247954,
     "user": {
      "displayName": "Максим Братышев",
      "userId": "07989005878146755133"
     },
     "user_tz": -240
    },
    "id": "IvaUUPIe-2fN",
    "outputId": "e0fa9313-98bf-46ee-8194-29091f333cb1"
   },
   "outputs": [],
   "source": [
    "def game_core_v3(number: int = 1) -> int:\n",
    "    \"\"\"\n",
    "    Args:\n",
    "        number (int, optional): Загаданное число. Defaults to 1.\n",
    "\n",
    "    Returns:\n",
    "        int: Число попыток\n",
    "    \"\"\"\n",
    "    # задаем границы поиска\n",
    "    first = 0 # начальный элемент\n",
    "    last = 101 # конечныйй элемент\n",
    "    count = 1 # задаём счётчик попыток (1 в случае нахождения загаданного числа копьютером сразу)\n",
    "    predict_num = np.random.randint(1, 101) # генерация компьютером числа с которого начнем поиск\n",
    "\n",
    "    while number != predict_num: # Зададим условие при котором цикл будет выполняться\n",
    "        count += 1\n",
    "        if predict_num > number: # если сгенерированное компьютером число больше загаданного\n",
    "            last = predict_num # сдвигаем конечный элемент поиска до сгенерированного компьютером числа\n",
    "            predict_num = (first + last) // 2 # теперь предполагаемое число это число из середины получившегося списка\n",
    "        else: # если сгенерированное компьютером число меньше загаданного\n",
    "            first = predict_num # сдвигаем начальный элемент поиска до сгенерированного компьютером числа\n",
    "            predict_num = (first + last) // 2 # теперь предполагаемое число это число из середины получившегося списка\n",
    "\n",
    "    return count # возвращаем полученый результат"
   ]
  },
  {
   "cell_type": "markdown",
   "metadata": {
    "id": "UDeCIsG9CACE"
   },
   "source": [
    "Оценим качество вашего алгоритма:"
   ]
  },
  {
   "cell_type": "code",
   "execution_count": 7,
   "metadata": {
    "colab": {
     "base_uri": "https://localhost:8080/"
    },
    "executionInfo": {
     "elapsed": 226,
     "status": "ok",
     "timestamp": 1738568134692,
     "user": {
      "displayName": "Максим Братышев",
      "userId": "07989005878146755133"
     },
     "user_tz": -240
    },
    "id": "giSKBUmgCAeh",
    "outputId": "c18ec02d-6d90-41f3-f718-12424eaed728"
   },
   "outputs": [
    {
     "name": "stdout",
     "output_type": "stream",
     "text": [
      "Run benchmarking for game_core_v3:\n",
      "Ваш алгоритм угадывает число: в среднем за 6 попытки\n",
      "Ваш алгоритм угадывает число: максимум за 8 попытки\n",
      "Ваш алгоритм угадывает число: минимум за 1 попытки\n"
     ]
    }
   ],
   "source": [
    "print('Run benchmarking for game_core_v3:')\n",
    "score_game(game_core_v3)"
   ]
  },
  {
   "cell_type": "markdown",
   "metadata": {
    "id": "7gc6XmUPC04X"
   },
   "source": [
    "Напомним, что для успешного решения задания программа должна угадывать число меньше чем за 20 попыток!"
   ]
  }
 ],
 "metadata": {
  "colab": {
   "provenance": [
    {
     "file_id": "1k2WZD8PWWOYFHrpAJoB2eZw06ID7KnFA",
     "timestamp": 1738499635588
    }
   ]
  },
  "kernelspec": {
   "display_name": "Python 3",
   "language": "python",
   "name": "python3"
  },
  "language_info": {
   "codemirror_mode": {
    "name": "ipython",
    "version": 3
   },
   "file_extension": ".py",
   "mimetype": "text/x-python",
   "name": "python",
   "nbconvert_exporter": "python",
   "pygments_lexer": "ipython3",
   "version": "3.12.8"
  },
  "orig_nbformat": 4
 },
 "nbformat": 4,
 "nbformat_minor": 0
}
